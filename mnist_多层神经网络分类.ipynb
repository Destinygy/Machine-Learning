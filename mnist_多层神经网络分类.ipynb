{
 "cells": [
  {
   "cell_type": "code",
   "execution_count": 15,
   "metadata": {},
   "outputs": [],
   "source": [
    "import tensorflow as tf"
   ]
  },
  {
   "cell_type": "code",
   "execution_count": 16,
   "metadata": {},
   "outputs": [],
   "source": [
    "from tensorflow.examples.tutorials.mnist import input_data"
   ]
  },
  {
   "cell_type": "code",
   "execution_count": 17,
   "metadata": {},
   "outputs": [
    {
     "name": "stdout",
     "output_type": "stream",
     "text": [
      "Extracting 第03周/MNIST_data\\train-images-idx3-ubyte.gz\n",
      "Extracting 第03周/MNIST_data\\train-labels-idx1-ubyte.gz\n",
      "Extracting 第03周/MNIST_data\\t10k-images-idx3-ubyte.gz\n",
      "Extracting 第03周/MNIST_data\\t10k-labels-idx1-ubyte.gz\n"
     ]
    }
   ],
   "source": [
    "mnist = input_data.read_data_sets(\"第03周/MNIST_data\",one_hot=True)"
   ]
  },
  {
   "cell_type": "markdown",
   "metadata": {},
   "source": [
    "### 参数设置"
   ]
  },
  {
   "cell_type": "code",
   "execution_count": 18,
   "metadata": {},
   "outputs": [],
   "source": [
    "learning_rate=0.001\n",
    "training_epochs=100\n",
    "batch_size=100\n",
    "display_step=5"
   ]
  },
  {
   "cell_type": "markdown",
   "metadata": {},
   "source": [
    "### 网络参数"
   ]
  },
  {
   "cell_type": "code",
   "execution_count": 19,
   "metadata": {},
   "outputs": [],
   "source": [
    "n_hidden_1=256\n",
    "n_hidden_2=256\n",
    "n_input=784\n",
    "n_classes=10"
   ]
  },
  {
   "cell_type": "code",
   "execution_count": 20,
   "metadata": {},
   "outputs": [],
   "source": [
    "X=tf.placeholder('float',[None,n_input])\n",
    "Y=tf.placeholder('float',[None,n_classes])"
   ]
  },
  {
   "cell_type": "markdown",
   "metadata": {},
   "source": [
    "### 创建模型"
   ]
  },
  {
   "cell_type": "code",
   "execution_count": 21,
   "metadata": {},
   "outputs": [],
   "source": [
    "def multilayer_percetron(x,weights,biases):\n",
    "    layer_1=tf.add(tf.matmul(x,weights['h1']),biases['b1'])\n",
    "    layer_1=tf.nn.relu(layer_1)\n",
    "    \n",
    "    layer_2=tf.add(tf.matmul(layer_1,weights['h2']),biases['b2'])\n",
    "    layer_2=tf.nn.relu(layer_2)\n",
    "    \n",
    "    out_layer=tf.matmul(layer_2,weights['out']) + biases['out']\n",
    "    \n",
    "    return out_layer"
   ]
  },
  {
   "cell_type": "code",
   "execution_count": 22,
   "metadata": {},
   "outputs": [],
   "source": [
    "weights={'h1': tf.Variable(tf.random_normal([n_input,n_hidden_1])),\n",
    "         'h2': tf.Variable(tf.random_normal([n_hidden_1,n_hidden_2])),\n",
    "         'out': tf.Variable(tf.random_normal([n_hidden_2,n_classes]))\n",
    "}\n",
    "\n",
    "biases={'b1': tf.Variable(tf.random_normal([n_hidden_1])),\n",
    "        'b2': tf.Variable(tf.random_normal([n_hidden_2])),\n",
    "        'out': tf.Variable(tf.random_normal([n_classes]))\n",
    "}"
   ]
  },
  {
   "cell_type": "code",
   "execution_count": 23,
   "metadata": {},
   "outputs": [],
   "source": [
    "pred=multilayer_percetron(X,weights,biases)"
   ]
  },
  {
   "cell_type": "code",
   "execution_count": 24,
   "metadata": {},
   "outputs": [],
   "source": [
    "cost=tf.reduce_mean(tf.nn.softmax_cross_entropy_with_logits(logits=pred,labels=Y))\n",
    "optimizer=tf.train.AdamOptimizer(learning_rate).minimize(cost)"
   ]
  },
  {
   "cell_type": "code",
   "execution_count": 25,
   "metadata": {},
   "outputs": [
    {
     "name": "stdout",
     "output_type": "stream",
     "text": [
      "Epoch: 0001 cost:  161.449069332\n",
      "Epoch: 0006 cost:  9.353687697\n",
      "Epoch: 0011 cost:  2.072948742\n",
      "Epoch: 0016 cost:  0.613167516\n",
      "Epoch: 0021 cost:  0.406289668\n",
      "Epoch: 0026 cost:  0.291212428\n",
      "Epoch: 0031 cost:  0.197418910\n",
      "Epoch: 0036 cost:  0.191696441\n",
      "Epoch: 0041 cost:  0.133829980\n",
      "Epoch: 0046 cost:  0.142977116\n",
      "Epoch: 0051 cost:  0.147280041\n",
      "Epoch: 0056 cost:  0.138605898\n",
      "Epoch: 0061 cost:  0.129782099\n",
      "Epoch: 0066 cost:  0.127079161\n",
      "Epoch: 0071 cost:  0.150005752\n",
      "Epoch: 0076 cost:  0.111951484\n",
      "Epoch: 0081 cost:  0.137600965\n",
      "Epoch: 0086 cost:  0.114844785\n",
      "Epoch: 0091 cost:  0.090328215\n",
      "Epoch: 0096 cost:  0.070470578\n",
      "Finished!\n",
      "Accuracy: 0.9706\n"
     ]
    }
   ],
   "source": [
    "with tf.Session() as sess:\n",
    "    tf.global_variables_initializer().run()\n",
    "    \n",
    "    for epoch in range(training_epochs):\n",
    "        avg_cost=0\n",
    "        total_batch= int(mnist.train.num_examples / batch_size)\n",
    "        for i in range(total_batch):\n",
    "            batch_x,batch_y=mnist.train.next_batch(batch_size)\n",
    "            _,c=sess.run([optimizer,cost],feed_dict={X:batch_x,Y:batch_y})\n",
    "            avg_cost += c / total_batch\n",
    "        \n",
    "        if epoch % display_step == 0:\n",
    "            print('Epoch: %04d'%(epoch+1),'cost: ','{:.9f}'.format(avg_cost))\n",
    "    \n",
    "    print('Finished!')\n",
    "    \n",
    "    correct_prediction=tf.equal(tf.arg_max(pred,1),tf.arg_max(Y,1))\n",
    "    \n",
    "    accuracy=tf.reduce_mean(tf.cast(correct_prediction,tf.float32))\n",
    "    print('Accuracy:',sess.run(accuracy,feed_dict={X: mnist.test.images, Y: mnist.test.labels}))\n",
    "    "
   ]
  },
  {
   "cell_type": "code",
   "execution_count": null,
   "metadata": {},
   "outputs": [],
   "source": []
  }
 ],
 "metadata": {
  "kernelspec": {
   "display_name": "Python 3",
   "language": "python",
   "name": "python3"
  },
  "language_info": {
   "codemirror_mode": {
    "name": "ipython",
    "version": 3
   },
   "file_extension": ".py",
   "mimetype": "text/x-python",
   "name": "python",
   "nbconvert_exporter": "python",
   "pygments_lexer": "ipython3",
   "version": "3.6.5"
  }
 },
 "nbformat": 4,
 "nbformat_minor": 2
}
