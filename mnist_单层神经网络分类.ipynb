{
 "cells": [
  {
   "cell_type": "code",
   "execution_count": 6,
   "metadata": {},
   "outputs": [],
   "source": [
    "from tensorflow.examples.tutorials.mnist import input_data"
   ]
  },
  {
   "cell_type": "code",
   "execution_count": 7,
   "metadata": {},
   "outputs": [
    {
     "name": "stdout",
     "output_type": "stream",
     "text": [
      "WARNING:tensorflow:From C:\\Users\\15203\\Anaconda3\\lib\\site-packages\\tensorflow\\contrib\\learn\\python\\learn\\datasets\\mnist.py:262: extract_images (from tensorflow.contrib.learn.python.learn.datasets.mnist) is deprecated and will be removed in a future version.\n",
      "Instructions for updating:\n",
      "Please use tf.data to implement this functionality.\n",
      "Extracting 第03周/MNIST_data\\train-images-idx3-ubyte.gz\n",
      "WARNING:tensorflow:From C:\\Users\\15203\\Anaconda3\\lib\\site-packages\\tensorflow\\contrib\\learn\\python\\learn\\datasets\\mnist.py:267: extract_labels (from tensorflow.contrib.learn.python.learn.datasets.mnist) is deprecated and will be removed in a future version.\n",
      "Instructions for updating:\n",
      "Please use tf.data to implement this functionality.\n",
      "Extracting 第03周/MNIST_data\\train-labels-idx1-ubyte.gz\n",
      "WARNING:tensorflow:From C:\\Users\\15203\\Anaconda3\\lib\\site-packages\\tensorflow\\contrib\\learn\\python\\learn\\datasets\\mnist.py:110: dense_to_one_hot (from tensorflow.contrib.learn.python.learn.datasets.mnist) is deprecated and will be removed in a future version.\n",
      "Instructions for updating:\n",
      "Please use tf.one_hot on tensors.\n",
      "Extracting 第03周/MNIST_data\\t10k-images-idx3-ubyte.gz\n",
      "Extracting 第03周/MNIST_data\\t10k-labels-idx1-ubyte.gz\n",
      "WARNING:tensorflow:From C:\\Users\\15203\\Anaconda3\\lib\\site-packages\\tensorflow\\contrib\\learn\\python\\learn\\datasets\\mnist.py:290: DataSet.__init__ (from tensorflow.contrib.learn.python.learn.datasets.mnist) is deprecated and will be removed in a future version.\n",
      "Instructions for updating:\n",
      "Please use alternatives such as official/mnist/dataset.py from tensorflow/models.\n"
     ]
    }
   ],
   "source": [
    "mnist = input_data.read_data_sets(\"第03周/MNIST_data\",one_hot=True)"
   ]
  },
  {
   "cell_type": "code",
   "execution_count": 8,
   "metadata": {},
   "outputs": [
    {
     "name": "stdout",
     "output_type": "stream",
     "text": [
      "输入数据： [[0. 0. 0. ... 0. 0. 0.]\n",
      " [0. 0. 0. ... 0. 0. 0.]\n",
      " [0. 0. 0. ... 0. 0. 0.]\n",
      " ...\n",
      " [0. 0. 0. ... 0. 0. 0.]\n",
      " [0. 0. 0. ... 0. 0. 0.]\n",
      " [0. 0. 0. ... 0. 0. 0.]]\n",
      "输入数据打印shape： (55000, 784)\n"
     ]
    }
   ],
   "source": [
    "print('训练数据：',mnist.train.images)\n",
    "print('训练数据打印shape：',mnist.train.images.shape)"
   ]
  },
  {
   "cell_type": "code",
   "execution_count": 9,
   "metadata": {},
   "outputs": [],
   "source": [
    "import pylab #图形打印类"
   ]
  },
  {
   "cell_type": "code",
   "execution_count": 12,
   "metadata": {},
   "outputs": [
    {
     "data": {
      "image/png": "[encoded data removed]",
      "text/plain": [
       "<Figure size 432x288 with 1 Axes>"
      ]
     },
     "metadata": {},
     "output_type": "display_data"
    }
   ],
   "source": [
    "im=mnist.train.images[1]\n",
    "im=im.reshape(-1,28) #将图由一行784个像素，转换成28*28像素的图像\n",
    "pylab.imshow(im)\n",
    "pylab.show()"
   ]
  },
  {
   "cell_type": "code",
   "execution_count": 14,
   "metadata": {},
   "outputs": [
    {
     "name": "stdout",
     "output_type": "stream",
     "text": [
      "测试数据打印shape (10000, 784)\n",
      "验证数据打印shape (5000, 784)\n"
     ]
    }
   ],
   "source": [
    "print('测试数据打印shape',mnist.test.images.shape)\n",
    "print('验证数据打印shape',mnist.validation.images.shape)"
   ]
  },
  {
   "cell_type": "code",
   "execution_count": null,
   "metadata": {},
   "outputs": [],
   "source": []
  },
  {
   "cell_type": "code",
   "execution_count": null,
   "metadata": {},
   "outputs": [],
   "source": []
  },
  {
   "cell_type": "markdown",
   "metadata": {},
   "source": [
    "### mnist 分类"
   ]
  },
  {
   "cell_type": "code",
   "execution_count": 15,
   "metadata": {},
   "outputs": [
    {
     "name": "stdout",
     "output_type": "stream",
     "text": [
      "Extracting 第03周/MNIST_data\\train-images-idx3-ubyte.gz\n",
      "Extracting 第03周/MNIST_data\\train-labels-idx1-ubyte.gz\n",
      "Extracting 第03周/MNIST_data\\t10k-images-idx3-ubyte.gz\n",
      "Extracting 第03周/MNIST_data\\t10k-labels-idx1-ubyte.gz\n"
     ]
    }
   ],
   "source": [
    "from tensorflow.examples.tutorials.mnist import input_data\n",
    "mnist=input_data.read_data_sets('第03周/MNIST_data',one_hot=True)"
   ]
  },
  {
   "cell_type": "code",
   "execution_count": 16,
   "metadata": {},
   "outputs": [],
   "source": [
    "tf.reset_default_graph()"
   ]
  },
  {
   "cell_type": "markdown",
   "metadata": {},
   "source": [
    "#### 搭建模型"
   ]
  },
  {
   "cell_type": "code",
   "execution_count": 17,
   "metadata": {},
   "outputs": [],
   "source": [
    "X=tf.placeholder(tf.float32,[None,784])\n",
    "Y=tf.placeholder(tf.float32,[None,10])"
   ]
  },
  {
   "cell_type": "code",
   "execution_count": 18,
   "metadata": {},
   "outputs": [],
   "source": [
    "W=tf.Variable(tf.random_normal([784,10]))\n",
    "b=tf.Variable(tf.zeros([10]))"
   ]
  },
  {
   "cell_type": "markdown",
   "metadata": {},
   "source": [
    "### 预测的是属于某一个类别的概论，总和为1 ，例如[0.2,0.6,0.2]"
   ]
  },
  {
   "cell_type": "code",
   "execution_count": 19,
   "metadata": {},
   "outputs": [],
   "source": [
    "pred=tf.nn.softmax(tf.matmul(X,W) + b)  # softmax 分类  "
   ]
  },
  {
   "cell_type": "markdown",
   "metadata": {},
   "source": [
    "### 反向传播，将生成的pred与样本标签Y进行一次交叉熵运算最小化误差cost"
   ]
  },
  {
   "cell_type": "code",
   "execution_count": 22,
   "metadata": {},
   "outputs": [],
   "source": [
    "cost=tf.reduce_mean(-tf.reduce_sum(Y*tf.log(pred),reduction_indices=1))\n",
    "#cost=tf.nn.softmax_cross_entropy_with_logits(tf.matmul(X,W) + b)"
   ]
  },
  {
   "cell_type": "code",
   "execution_count": 24,
   "metadata": {},
   "outputs": [],
   "source": [
    "learning_rate=0.01\n",
    "optimizer=tf.train.GradientDescentOptimizer(learning_rate).minimize(cost)"
   ]
  },
  {
   "cell_type": "code",
   "execution_count": 26,
   "metadata": {},
   "outputs": [],
   "source": [
    "training_epochs=20\n",
    "batch_size=100\n",
    "display_step=1\n",
    "saver=tf.train.Saver()\n",
    "model_path='log/mnist_model.ckpt'"
   ]
  },
  {
   "cell_type": "code",
   "execution_count": null,
   "metadata": {},
   "outputs": [],
   "source": []
  },
  {
   "cell_type": "code",
   "execution_count": 31,
   "metadata": {},
   "outputs": [
    {
     "name": "stdout",
     "output_type": "stream",
     "text": [
      "Epoch: 0001 cost= 9.805365619\n",
      "Epoch: 0002 cost= 4.871370925\n",
      "Epoch: 0003 cost= 3.325461086\n",
      "Epoch: 0004 cost= 2.638523468\n",
      "Epoch: 0005 cost= 2.236332992\n",
      "Epoch: 0006 cost= 1.968657412\n",
      "Epoch: 0007 cost= 1.777445419\n",
      "Epoch: 0008 cost= 1.633242547\n",
      "Epoch: 0009 cost= 1.520205070\n",
      "Epoch: 0010 cost= 1.429275612\n",
      "Epoch: 0011 cost= 1.353832946\n",
      "Epoch: 0012 cost= 1.290501630\n",
      "Epoch: 0013 cost= 1.236187476\n",
      "Epoch: 0014 cost= 1.189086647\n",
      "Epoch: 0015 cost= 1.147685652\n",
      "Epoch: 0016 cost= 1.111217419\n",
      "Epoch: 0017 cost= 1.078281146\n",
      "Epoch: 0018 cost= 1.048949225\n",
      "Epoch: 0019 cost= 1.022129355\n",
      "Epoch: 0020 cost= 0.997836063\n",
      "Finished\n",
      "Accuracy: 0.8088\n",
      "Model saved in file: log/mnist_model.ckpt\n"
     ]
    }
   ],
   "source": [
    "with tf.Session() as sess:\n",
    "    sess.run(tf.global_variables_initializer())\n",
    "    \n",
    "    for epoch in range(training_epochs):\n",
    "        avg_cost=0\n",
    "        total_batch=int(mnist.train.num_examples/batch_size) # 每一轮训练多少批次\n",
    "        #遍历全部数据\n",
    "        for i in range(total_batch):\n",
    "            batch_xs,batch_ys=mnist.train.next_batch(batch_size)\n",
    "            _,c=sess.run([optimizer,cost],feed_dict={X:batch_xs,Y:batch_ys})\n",
    "            \n",
    "            #计算平均值以使误差值更加平均\n",
    "            avg_cost += c / total_batch\n",
    "            \n",
    "        #显示训练中详细信息\n",
    "        if (epoch+1) % display_step == 0:\n",
    "            print('Epoch:','%04d'%(epoch+1),'cost=','{:.9f}'.format(avg_cost))\n",
    "    print('Finished')\n",
    "    \n",
    "    #测试模型\n",
    "    correct_pred=tf.equal(tf.argmax(pred,1),tf.argmax(Y,1))\n",
    "    #计算准确率\n",
    "    accuracy=tf.reduce_mean(tf.cast(correct_pred,tf.float32)) #cast函数，将correct_pred数据类型转换成float32\n",
    "    \n",
    "    #print('Accuracy:',accuracy.eval({X:mnist.test.images,Y:mnist.test.labels}))\n",
    "    print('Accuracy:',sess.run(accuracy,feed_dict={X:mnist.test.images,Y:mnist.test.labels}))\n",
    "    \n",
    "    #存储模型\n",
    "    model=saver.save(sess,model_path)\n",
    "    print('Model saved in file: %s'%model)"
   ]
  },
  {
   "cell_type": "code",
   "execution_count": null,
   "metadata": {},
   "outputs": [],
   "source": []
  },
  {
   "cell_type": "code",
   "execution_count": null,
   "metadata": {},
   "outputs": [],
   "source": []
  },
  {
   "cell_type": "markdown",
   "metadata": {},
   "source": [
    "### 读取模型，使用模型"
   ]
  },
  {
   "cell_type": "code",
   "execution_count": 38,
   "metadata": {
    "scrolled": true
   },
   "outputs": [
    {
     "name": "stdout",
     "output_type": "stream",
     "text": [
      "INFO:tensorflow:Restoring parameters from log/mnist_model.ckpt\n",
      "<tensorflow.python.training.saver.Saver object at 0x00000207BD353DD8>\n",
      "Accuracy: 0.8088\n",
      "[8 8]\n",
      "[[1.75489359e-10 5.34137188e-12 3.69386847e-11 5.26675831e-06\n",
      "  4.98697510e-08 5.88517031e-03 7.34526606e-11 7.69147861e-14\n",
      "  9.94109511e-01 1.00122126e-10]\n",
      " [2.53181587e-10 4.66715101e-05 1.23578624e-13 3.12900622e-10\n",
      "  6.96349161e-05 1.89695030e-03 9.77665164e-15 4.50800061e-02\n",
      "  9.52906430e-01 2.21325976e-07]]\n",
      "[[0. 0. 0. 0. 0. 0. 0. 0. 1. 0.]\n",
      " [0. 0. 0. 0. 0. 0. 0. 0. 1. 0.]]\n"
     ]
    }
   ],
   "source": [
    "saver=tf.train.Saver()\n",
    "model_path='log/mnist_model.ckpt'\n",
    "with tf.Session() as sess2:\n",
    "    tf.global_variables_initializer().run()\n",
    "    saver.restore(sess2,model_path)\n",
    "    print(saver)\n",
    "    \n",
    "    correct_prediction=tf.equal(tf.argmax(pred,1),tf.argmax(Y,1))\n",
    "    accuracy=tf.reduce_mean(tf.cast(correct_prediction,tf.float32))\n",
    "    print('Accuracy:',accuracy.eval({X:mnist.test.images,Y:mnist.test.labels}))\n",
    "    \n",
    "    output=tf.argmax(pred,1)\n",
    "    \n",
    "    #获取两个手写数字，并使用模型进行预测\n",
    "    batch_xs,batch_ys=mnist.train.next_batch(2)\n",
    "    outputval,predv=sess2.run([output,pred],feed_dict={X:batch_xs})\n",
    "    print(outputval)\n",
    "    print(predv)\n",
    "    print(batch_ys)"
   ]
  },
  {
   "cell_type": "code",
   "execution_count": null,
   "metadata": {},
   "outputs": [],
   "source": []
  }
 ],
 "metadata": {
  "kernelspec": {
   "display_name": "Python 3",
   "language": "python",
   "name": "python3"
  },
  "language_info": {
   "codemirror_mode": {
    "name": "ipython",
    "version": 3
   },
   "file_extension": ".py",
   "mimetype": "text/x-python",
   "name": "python",
   "nbconvert_exporter": "python",
   "pygments_lexer": "ipython3",
   "version": "3.6.5"
  }
 },
 "nbformat": 4,
 "nbformat_minor": 2
}
